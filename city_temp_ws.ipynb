{
 "cells": [
  {
   "cell_type": "code",
   "execution_count": 19,
   "id": "042af8b2",
   "metadata": {},
   "outputs": [],
   "source": [
    "#импортируем нужные библиотеки:\n",
    "import psycopg2\n",
    "from flask import Flask\n",
    "from flask import request"
   ]
  },
  {
   "cell_type": "code",
   "execution_count": 20,
   "id": "7951154a",
   "metadata": {},
   "outputs": [
    {
     "name": "stdout",
     "output_type": "stream",
     "text": [
      " * Serving Flask app '__main__'\n",
      " * Debug mode: on\n"
     ]
    },
    {
     "name": "stderr",
     "output_type": "stream",
     "text": [
      "\u001b[31m\u001b[1mWARNING: This is a development server. Do not use it in a production deployment. Use a production WSGI server instead.\u001b[0m\n",
      " * Running on http://127.0.0.1:1024\n",
      "\u001b[33mPress CTRL+C to quit\u001b[0m\n",
      " * Restarting with stat\n",
      "Traceback (most recent call last):\n",
      "  File \"/Library/Frameworks/Python.framework/Versions/3.10/lib/python3.10/site-packages/ipykernel_launcher.py\", line 17, in <module>\n",
      "    app.launch_new_instance()\n",
      "  File \"/Library/Frameworks/Python.framework/Versions/3.10/lib/python3.10/site-packages/traitlets/config/application.py\", line 977, in launch_instance\n",
      "    app.initialize(argv)\n",
      "  File \"/Library/Frameworks/Python.framework/Versions/3.10/lib/python3.10/site-packages/traitlets/config/application.py\", line 110, in inner\n",
      "    return method(app, *args, **kwargs)\n",
      "  File \"/Library/Frameworks/Python.framework/Versions/3.10/lib/python3.10/site-packages/ipykernel/kernelapp.py\", line 666, in initialize\n",
      "    self.init_sockets()\n",
      "  File \"/Library/Frameworks/Python.framework/Versions/3.10/lib/python3.10/site-packages/ipykernel/kernelapp.py\", line 307, in init_sockets\n",
      "    self.shell_port = self._bind_socket(self.shell_socket, self.shell_port)\n",
      "  File \"/Library/Frameworks/Python.framework/Versions/3.10/lib/python3.10/site-packages/ipykernel/kernelapp.py\", line 244, in _bind_socket\n",
      "    return self._try_bind_socket(s, port)\n",
      "  File \"/Library/Frameworks/Python.framework/Versions/3.10/lib/python3.10/site-packages/ipykernel/kernelapp.py\", line 220, in _try_bind_socket\n",
      "    s.bind(\"tcp://%s:%i\" % (self.ip, port))\n",
      "  File \"/Library/Frameworks/Python.framework/Versions/3.10/lib/python3.10/site-packages/zmq/sugar/socket.py\", line 232, in bind\n",
      "    super().bind(addr)\n",
      "  File \"zmq/backend/cython/socket.pyx\", line 568, in zmq.backend.cython.socket.Socket.bind\n",
      "  File \"zmq/backend/cython/checkrc.pxd\", line 28, in zmq.backend.cython.checkrc._check_rc\n",
      "zmq.error.ZMQError: Address already in use\n"
     ]
    },
    {
     "ename": "SystemExit",
     "evalue": "1",
     "output_type": "error",
     "traceback": [
      "An exception has occurred, use %tb to see the full traceback.\n",
      "\u001b[0;31mSystemExit\u001b[0m\u001b[0;31m:\u001b[0m 1\n"
     ]
    }
   ],
   "source": [
    "#определяем методы запросов работы приложения (метод GET - получаем данные)\n",
    "web_service=Flask(__name__)\n",
    "@web_service.route('/', methods=['GET'])\n",
    "\n",
    "def get_data():\n",
    "    #подключаемся к БД:\n",
    "    conn = psycopg2.connect(host=\"localhost\", port = 5432, database=\"postgres\", user=\"postgres\", password=\"зщыепкуы\")\n",
    "    #заводим курсор (объект БД, в котором будут храниться данные, полученные в результате запроса к БД):\n",
    "    cur = conn.cursor()\n",
    "    #заводим список, который потом выведем на страницу html в режиме разметки (через теги <ul>, <li>):\n",
    "    list_query_results = list()\n",
    "    #открываем блок с обработкой исключения - вдруг пользователь введет некорректный запрос в адресную строку браузера:\n",
    "    try: #в части \"try\" описывается нормальный ход программы, когда пользователь ее не ломает:\n",
    "        #считываем название города из адресной строки:\n",
    "        city=request.args.get('city')\n",
    "        #добавляем название города в список, чтобы потом вывести название на экран:\n",
    "        list_query_results.append(city)\n",
    "        #отправляем запрос в БД:\n",
    "        cur.execute(\"\"\"select date_temp from t_city_temp where lower(city) = lower('\"\"\" + city + \"\"\"')\"\"\")\n",
    "        #заполняем курсор данными из БД, полученными в результате запроса:\n",
    "        query_results = cur.fetchall()\n",
    "        #заводим дополнительный счетчик, который покажет, сколько записей мы получили в результате запроса (для каждого города в БД - 5 записей о погоде):\n",
    "        counter = 0\n",
    "        #заполняем список данных о погоде в цикле:\n",
    "        for i in query_results:\n",
    "            list_query_results.append(f\"{i[0]}\") #i[] - это одна строка-запись из БД с данными о погоде по выбранному городу\n",
    "            counter = counter + 1 #увеличиваем счетчик записей в списке с данными о погоде\n",
    "        #закрываем подключение к БД:\n",
    "        conn.close()\n",
    "        \n",
    "        #поверяем, ввел ли пользователь в адресную строку браузера название города, которое есть в БД (тогда counter > 0), или которого нет в БД (тогда counter = 0): \n",
    "        if counter == 0:\n",
    "            list_query_results.append(\"Для данного города не существует записей о погоде в БД!\")\n",
    "            #в случае, что записей для запрошенного города в БД нет - заполняем список вывода на экран пустыми строками:\n",
    "            for k in range(4): \n",
    "                list_query_results.append(\"\")\n",
    "    except Exception as e:  #в части \"except\" описывается ненормальный ход программы, когда пользователь ее ломает:\n",
    "        list_query_results.append(\"Ошибка чтения названия города!\")\n",
    "        pass #это заглушка\n",
    "    #выводим на страницу html название города и 5 строк с записями о погоде в виде элементов списка, т.к. на каждый город у нас в БД прогноз на текущий день+4дня вперед:\n",
    "    return f\"\"\"<ul>\n",
    "    <li>{list_query_results[0]}</li>\n",
    "    <li>{list_query_results[1]}</li>\n",
    "    <li>{list_query_results[2]}</li>\n",
    "    <li>{list_query_results[3]}</li>\n",
    "    <li>{list_query_results[4]}</li>\n",
    "    <li>{list_query_results[5]}</li>\n",
    "</ul>\"\"\"\n",
    "\n",
    "#запуск программы:\n",
    "if __name__ == '__main__':\n",
    "    web_service.run(debug=True,port=2700,host=\"127.0.0.1\") #строку вида: http://127.0.0.1:2700/?city=surgut - вводим в адресную строку браузера после запуска в командной строке команды: python3 city_temp_ws.py.\n"
   ]
  },
  {
   "cell_type": "code",
   "execution_count": null,
   "id": "4e97acac",
   "metadata": {},
   "outputs": [],
   "source": []
  }
 ],
 "metadata": {
  "kernelspec": {
   "display_name": "Python 3 (ipykernel)",
   "language": "python",
   "name": "python3"
  },
  "language_info": {
   "codemirror_mode": {
    "name": "ipython",
    "version": 3
   },
   "file_extension": ".py",
   "mimetype": "text/x-python",
   "name": "python",
   "nbconvert_exporter": "python",
   "pygments_lexer": "ipython3",
   "version": "3.10.8"
  }
 },
 "nbformat": 4,
 "nbformat_minor": 5
}
