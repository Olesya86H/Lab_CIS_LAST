{
 "cells": [
  {
   "cell_type": "code",
   "execution_count": 14,
   "id": "a4d1a83f",
   "metadata": {},
   "outputs": [],
   "source": [
    "#импортируем нужные библиотеки:\n",
    "from time import sleep\n",
    "from json import dumps\n",
    "from kafka import KafkaProducer\n",
    "import requests"
   ]
  },
  {
   "cell_type": "code",
   "execution_count": 15,
   "id": "b1ee54b8",
   "metadata": {},
   "outputs": [],
   "source": [
    "appid = \"71cd8104521484b0bf0dc7bb1f194183\" #APIkey, полученный при регистрации на OpenWeatherMap.org.\n",
    "\n",
    "#получаем id города, в случаеб что есть такой город на ресурсе openweathermap.org:\n",
    "def get_city_id(s_city_name):\n",
    "    try:\n",
    "        res = requests.get(\"http://api.openweathermap.org/data/2.5/find\",\n",
    "                     params={'q': s_city_name, 'type': 'like', 'units': 'metric', 'lang': 'ru', 'APPID': appid})\n",
    "        data = res.json()\n",
    "        cities = [\"{} ({})\".format(d['name'], d['sys']['country'])\n",
    "                  for d in data['list']]\n",
    "        city_id = data['list'][0]['id']\n",
    "        #print('city_id=', city_id)\n",
    "    except Exception as e:\n",
    "        print(\"Город не найден:\", e)\n",
    "        pass\n",
    "    assert isinstance(city_id, int)\n",
    "    return city_id\n",
    "\n",
    "#получаем температуру воздуха и дату:\n",
    "def request_current_weather(city_id, city_name):\n",
    "    try:\n",
    "        res = requests.get(\"http://api.openweathermap.org/data/2.5/forecast\",\n",
    "                     params={'id': city_id, 'units': 'metric', 'lang': 'ru', 'APPID': appid})\n",
    "        data = res.json()\n",
    "        \n",
    "        #задаем отправителя сообщений:\n",
    "        producer = KafkaProducer(bootstrap_servers=['localhost:9092'],\n",
    "                         value_serializer=lambda x:\n",
    "                         dumps(x).encode('utf-8'),\n",
    "                         api_version=(0, 10, 1),\n",
    "                         security_protocol='PLAINTEXT')\n",
    "        \n",
    "        from kafka.admin import KafkaAdminClient, NewTopic\n",
    "        #задаем API администратора для формирования топика и партицирования топика: \n",
    "        #два получателя - два раздела одного топика - каждому получателю свой раздел (по одному сообщению каждому)\n",
    "        admin = KafkaAdminClient(\n",
    "                client_id ='admin',\n",
    "                bootstrap_servers=['localhost:9092'],\n",
    "                security_protocol='PLAINTEXT',\n",
    "                )\n",
    "\n",
    "        topic_name = \"city_temp_topic_kafka\"\n",
    "\n",
    "        topic = NewTopic(name=topic_name, num_partitions=2, replication_factor=1)\n",
    "\n",
    "        admin.create_topics([topic])\n",
    "        \n",
    "        #первый раздел топика - название города - получит consumer_city:\n",
    "        producer.send(topic_name, value=city_name, partition=0)\n",
    "        \n",
    "        #блокировка отправителя, пока сообщения не будут доставлены:\n",
    "        #producer.flush()\n",
    "\n",
    "        for i in data['list']:\n",
    "            if i['dt_txt'][11] == '1' and i['dt_txt'][12] == '2':\n",
    "                print( i['dt_txt'], '{0:+1.0f}'.format(i['main']['temp']))\n",
    "                s=i['dt_txt'] + ' ' + '{0:+1.0f}'.format(i['main']['temp'])\n",
    "                #второй раздел топика - температура воздуха и дата на каждый из пяти дней - получит consumer_date_temp:\n",
    "                producer.send(topic_name, value=s, partition=1)\n",
    "                sleep(1)\n",
    "                #producer.flush()\n",
    "    except Exception as e:\n",
    "        print(\"Температура воздуха не найдена:\", e)\n",
    "        pass"
   ]
  },
  {
   "cell_type": "code",
   "execution_count": 16,
   "id": "4e3c7266",
   "metadata": {},
   "outputs": [
    {
     "name": "stdout",
     "output_type": "stream",
     "text": [
      "Moscow\n",
      "2022-12-11 12:00:00 -1\n",
      "2022-12-12 12:00:00 +2\n",
      "2022-12-13 12:00:00 +0\n",
      "2022-12-14 12:00:00 -4\n",
      "2022-12-15 12:00:00 -8\n"
     ]
    }
   ],
   "source": [
    "#видимая работа программы начинается здесь\n",
    "#запрашиваем у пользователя название города, для которого будем получать записи о погоде на ресурсе openweathermap.org, затем сохранять в очередь сообщений kafka с партицированием (топик один, но два раздела: один раздел - название города, второй раздел - 5 записей о погоде для этого города):\n",
    "a = input()\n",
    "#вызываем функцию get_city_id, которая описана в подпрограмме выше, - получаем id города \n",
    "i = get_city_id(a)\n",
    "#вызываем функцию request_current_weather, которая описана в подпрограмме выше, - получаем записи о погоде и отправляем их в kafk'у \n",
    "request_current_weather(i, a)"
   ]
  },
  {
   "cell_type": "code",
   "execution_count": null,
   "id": "17cc1a93",
   "metadata": {},
   "outputs": [],
   "source": []
  }
 ],
 "metadata": {
  "kernelspec": {
   "display_name": "Python 3 (ipykernel)",
   "language": "python",
   "name": "python3"
  },
  "language_info": {
   "codemirror_mode": {
    "name": "ipython",
    "version": 3
   },
   "file_extension": ".py",
   "mimetype": "text/x-python",
   "name": "python",
   "nbconvert_exporter": "python",
   "pygments_lexer": "ipython3",
   "version": "3.10.8"
  }
 },
 "nbformat": 4,
 "nbformat_minor": 5
}
