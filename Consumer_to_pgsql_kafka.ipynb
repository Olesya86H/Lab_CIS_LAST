{
 "cells": [
  {
   "cell_type": "code",
   "execution_count": 9,
   "id": "6dbd6880",
   "metadata": {},
   "outputs": [],
   "source": [
    "#импортируем нужные библиотеки:\n",
    "from kafka import TopicPartition\n",
    "from kafka import KafkaConsumer\n",
    "from json import loads\n",
    "import psycopg2"
   ]
  },
  {
   "cell_type": "code",
   "execution_count": 10,
   "id": "58ce7d50",
   "metadata": {},
   "outputs": [],
   "source": [
    "#подключаемся к БД:\n",
    "conn = psycopg2.connect(host=\"localhost\", port = 5432, database=\"postgres\", user=\"postgres\", password=\"зщыепкуы\")"
   ]
  },
  {
   "cell_type": "code",
   "execution_count": 11,
   "id": "055189b6",
   "metadata": {},
   "outputs": [],
   "source": [
    "#заводим курсор (объект БД, через который будем выполнять запрос на вставку данных в таблицу БД):\n",
    "cur = conn.cursor()"
   ]
  },
  {
   "cell_type": "code",
   "execution_count": 12,
   "id": "d3c343b9",
   "metadata": {},
   "outputs": [],
   "source": [
    "#задаем первого получателя (consumer_city):\n",
    "topic_name = \"city_temp_topic_kafka\"\n",
    "consumer_city = KafkaConsumer(\n",
    "     group_id=\"topic_partitioned\",\n",
    "     bootstrap_servers=['localhost:9092'],\n",
    "     auto_offset_reset='earliest',\n",
    "     enable_auto_commit=True,\n",
    "     api_version=(0, 10, 1),\n",
    "     security_protocol='PLAINTEXT')\n",
    "\n",
    "#привязываем первого получателя к топику (получает первый раздел топика, 1-е сообщение с названием города):\n",
    "consumer_city.assign([TopicPartition(topic_name, 0)])\n",
    "consumer_city.subscription()\n",
    "for message in consumer_city:\n",
    "    #print(\"p=%d value=%s\" % (message.partition, message.value)) #строка для тестовой проверки\n",
    "    city_name = str(message.value)\n",
    "    city_name = city_name[3:len(city_name) - 2] #здесь очищаем строку от остатков (кавычки и пр.), полученных после преобразования из формата json \n",
    "    consumer_city.close() #закрываем нашего получателя"
   ]
  },
  {
   "cell_type": "code",
   "execution_count": 13,
   "id": "d10a1219",
   "metadata": {},
   "outputs": [
    {
     "name": "stdout",
     "output_type": "stream",
     "text": [
      "Samara\n"
     ]
    }
   ],
   "source": [
    "#print(city_name) #строка для тестовой проверки, что все ок, город есть"
   ]
  },
  {
   "cell_type": "code",
   "execution_count": 14,
   "id": "228f98f8",
   "metadata": {},
   "outputs": [],
   "source": [
    "#задаем второго получателя (consumer_date_temp):\n",
    "topic_name = \"city_temp_topic_kafka\"\n",
    "consumer_date_temp = KafkaConsumer(\n",
    "     group_id=\"topic_partitioned\",\n",
    "     bootstrap_servers=['localhost:9092'],\n",
    "     auto_offset_reset='earliest',\n",
    "     enable_auto_commit=True,\n",
    "     api_version=(0, 10, 1),\n",
    "     security_protocol='PLAINTEXT')\n",
    "\n",
    "#привязываем второго получателя к топику (получает второй раздел топика, 2-е сообщение):\n",
    "consumer_date_temp.assign([TopicPartition(topic_name, 1)])\n",
    "consumer_date_temp.subscription()\n",
    "i = 0\n",
    "for message in consumer_date_temp:\n",
    "    #print (\"p=%d value=%s\" % (message.partition, message.value)) #строка для тестовой проверки\n",
    "    i = i + 1\n",
    "    temp_dat = str(message.value)\n",
    "    temp_dat = temp_dat[3:len(temp_dat) - 2] #здесь очищаем строку от остатков (кавычки и пр.), полученных после преобразования из формата json \n",
    "    #print(temp_dat) #строка для тестовой проверки\n",
    "    cur.execute(\"\"\"insert into t_city_temp (city, date_temp) values ('\"\"\" + city_name + \"\"\"','\"\"\" + temp_dat + \"\"\"')\"\"\")\n",
    "    if i == 5:\n",
    "        consumer_date_temp.close()"
   ]
  },
  {
   "cell_type": "code",
   "execution_count": 15,
   "id": "18d100d7",
   "metadata": {},
   "outputs": [],
   "source": [
    "conn.commit() #фиксируем изменения в БД (то, что записали 5 новых строк в БД)"
   ]
  },
  {
   "cell_type": "code",
   "execution_count": 16,
   "id": "86c9e223",
   "metadata": {},
   "outputs": [],
   "source": [
    "cur.close() #закрываем курсор\n",
    "conn.close() #закрываем подключение к БД"
   ]
  }
 ],
 "metadata": {
  "kernelspec": {
   "display_name": "Python 3 (ipykernel)",
   "language": "python",
   "name": "python3"
  },
  "language_info": {
   "codemirror_mode": {
    "name": "ipython",
    "version": 3
   },
   "file_extension": ".py",
   "mimetype": "text/x-python",
   "name": "python",
   "nbconvert_exporter": "python",
   "pygments_lexer": "ipython3",
   "version": "3.10.8"
  }
 },
 "nbformat": 4,
 "nbformat_minor": 5
}
